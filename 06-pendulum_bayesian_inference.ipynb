{
 "cells": [
  {
   "cell_type": "markdown",
   "metadata": {},
   "source": [
    "# Bayesian Inference on a Pendulum using DiffEqBayes.jl\n",
    "### Vaibhav Dixit\n",
    "\n",
    "### Set up simple pendulum problem"
   ]
  },
  {
   "cell_type": "code",
   "execution_count": 1,
   "metadata": {},
   "outputs": [
    {
     "name": "stderr",
     "output_type": "stream",
     "text": [
      "┌ Info: Precompiling DiffEqBayes [ebbdde9d-f333-5424-9be2-dbf1e9acfb5e]\n",
      "└ @ Base loading.jl:1278\n",
      "ERROR: LoadError: LoadError: UndefVarError: TYPEDFIELDS not defined\n",
      "Stacktrace:\n",
      " [1] top-level scope at /Users/tetsuya/.julia/packages/LoopVectorization/pHMnJ/src/costs.jl:45\n",
      " [2] include(::Function, ::Module, ::String) at ./Base.jl:380\n",
      " [3] include at ./Base.jl:368 [inlined]\n",
      " [4] include(::String) at /Users/tetsuya/.julia/packages/LoopVectorization/pHMnJ/src/LoopVectorization.jl:1\n",
      " [5] top-level scope at /Users/tetsuya/.julia/packages/LoopVectorization/pHMnJ/src/LoopVectorization.jl:53\n",
      " [6] include(::Function, ::Module, ::String) at ./Base.jl:380\n",
      " [7] include(::Module, ::String) at ./Base.jl:368\n",
      " [8] top-level scope at none:2\n",
      " [9] eval at ./boot.jl:331 [inlined]\n",
      " [10] eval(::Expr) at ./client.jl:467\n",
      " [11] top-level scope at ./none:3\n",
      "in expression starting at /Users/tetsuya/.julia/packages/LoopVectorization/pHMnJ/src/costs.jl:45\n",
      "in expression starting at /Users/tetsuya/.julia/packages/LoopVectorization/pHMnJ/src/LoopVectorization.jl:53\n",
      "ERROR: LoadError: LoadError: Failed to precompile LoopVectorization [bdcacae8-1622-11e9-2a5c-532679323890] to /Users/tetsuya/.julia/compiled/v1.5/LoopVectorization/4TogI_65Ooo.ji.\n",
      "Stacktrace:\n",
      " [1] error(::String) at ./error.jl:33\n",
      " [2] compilecache(::Base.PkgId, ::String) at ./loading.jl:1305\n",
      " [3] _require(::Base.PkgId) at ./loading.jl:1030\n",
      " [4] require(::Base.PkgId) at ./loading.jl:928\n",
      " [5] require(::Module, ::Symbol) at ./loading.jl:923\n",
      " [6] include(::Function, ::Module, ::String) at ./Base.jl:380\n",
      " [7] include at ./Base.jl:368 [inlined]\n",
      " [8] include(::String) at /Users/tetsuya/.julia/packages/RecursiveFactorization/wAEz3/src/RecursiveFactorization.jl:1\n",
      " [9] top-level scope at /Users/tetsuya/.julia/packages/RecursiveFactorization/wAEz3/src/RecursiveFactorization.jl:3\n",
      " [10] include(::Function, ::Module, ::String) at ./Base.jl:380\n",
      " [11] include(::Module, ::String) at ./Base.jl:368\n",
      " [12] top-level scope at none:2\n",
      " [13] eval at ./boot.jl:331 [inlined]\n",
      " [14] eval(::Expr) at ./client.jl:467\n",
      " [15] top-level scope at ./none:3\n",
      "in expression starting at /Users/tetsuya/.julia/packages/RecursiveFactorization/wAEz3/src/lu.jl:1\n",
      "in expression starting at /Users/tetsuya/.julia/packages/RecursiveFactorization/wAEz3/src/RecursiveFactorization.jl:3\n",
      "ERROR: LoadError: Failed to precompile RecursiveFactorization [f2c3362d-daeb-58d1-803e-2bc74f2840b4] to /Users/tetsuya/.julia/compiled/v1.5/RecursiveFactorization/tEwl6_65Ooo.ji.\n",
      "Stacktrace:\n",
      " [1] error(::String) at ./error.jl:33\n",
      " [2] compilecache(::Base.PkgId, ::String) at ./loading.jl:1305\n",
      " [3] _require(::Base.PkgId) at ./loading.jl:1030\n",
      " [4] require(::Base.PkgId) at ./loading.jl:928\n",
      " [5] require(::Module, ::Symbol) at ./loading.jl:923\n",
      " [6] include(::Function, ::Module, ::String) at ./Base.jl:380\n",
      " [7] include(::Module, ::String) at ./Base.jl:368\n",
      " [8] top-level scope at none:2\n",
      " [9] eval at ./boot.jl:331 [inlined]\n",
      " [10] eval(::Expr) at ./client.jl:467\n",
      " [11] top-level scope at ./none:3\n",
      "in expression starting at /Users/tetsuya/.julia/packages/DiffEqBase/V7P18/src/DiffEqBase.jl:3\n",
      "ERROR: LoadError: Failed to precompile DiffEqBase [2b5f629d-d688-5b77-993f-72d75c75574e] to /Users/tetsuya/.julia/compiled/v1.5/DiffEqBase/oaevG_65Ooo.ji.\n",
      "Stacktrace:\n",
      " [1] error(::String) at ./error.jl:33\n",
      " [2] compilecache(::Base.PkgId, ::String) at ./loading.jl:1305\n",
      " [3] _require(::Base.PkgId) at ./loading.jl:1030\n",
      " [4] require(::Base.PkgId) at ./loading.jl:928\n",
      " [5] require(::Module, ::Symbol) at ./loading.jl:923\n",
      " [6] include(::Function, ::Module, ::String) at ./Base.jl:380\n",
      " [7] include(::Module, ::String) at ./Base.jl:368\n",
      " [8] top-level scope at none:2\n",
      " [9] eval at ./boot.jl:331 [inlined]\n",
      " [10] eval(::Expr) at ./client.jl:467\n",
      " [11] top-level scope at ./none:3\n",
      "in expression starting at /Users/tetsuya/.julia/packages/DiffEqBayes/HGGkn/src/DiffEqBayes.jl:2\n"
     ]
    },
    {
     "ename": "LoadError",
     "evalue": "Failed to precompile DiffEqBayes [ebbdde9d-f333-5424-9be2-dbf1e9acfb5e] to /Users/tetsuya/.julia/compiled/v1.5/DiffEqBayes/RkXoF_65Ooo.ji.",
     "output_type": "error",
     "traceback": [
      "Failed to precompile DiffEqBayes [ebbdde9d-f333-5424-9be2-dbf1e9acfb5e] to /Users/tetsuya/.julia/compiled/v1.5/DiffEqBayes/RkXoF_65Ooo.ji.",
      "",
      "Stacktrace:",
      " [1] error(::String) at ./error.jl:33",
      " [2] compilecache(::Base.PkgId, ::String) at ./loading.jl:1305",
      " [3] _require(::Base.PkgId) at ./loading.jl:1030",
      " [4] require(::Base.PkgId) at ./loading.jl:928",
      " [5] require(::Module, ::Symbol) at ./loading.jl:923",
      " [6] include_string(::Function, ::Module, ::String, ::String) at ./loading.jl:1091"
     ]
    }
   ],
   "source": [
    "using DiffEqBayes, OrdinaryDiffEq, RecursiveArrayTools, Distributions, Plots, StatsPlots, BenchmarkTools, TransformVariables, CmdStan, DynamicHMC"
   ]
  },
  {
   "cell_type": "markdown",
   "metadata": {},
   "source": [
    "Let's define our simple pendulum problem. Here our pendulum has a drag term `ω`\n",
    "and a length `L`.\n",
    "\n",
    "![pendulum](https://user-images.githubusercontent.com/1814174/59942945-059c1680-942f-11e9-991c-2025e6e4ccd3.jpg)\n",
    "\n",
    "We get first order equations by defining the first term as the velocity and the\n",
    "second term as the position, getting:"
   ]
  },
  {
   "cell_type": "code",
   "execution_count": 3,
   "metadata": {},
   "outputs": [
    {
     "ename": "LoadError",
     "evalue": "UndefVarError: ODEProblem not defined",
     "output_type": "error",
     "traceback": [
      "UndefVarError: ODEProblem not defined",
      "",
      "Stacktrace:",
      " [1] top-level scope at In[3]:10",
      " [2] include_string(::Function, ::Module, ::String, ::String) at ./loading.jl:1091"
     ]
    }
   ],
   "source": [
    "function pendulum(du,u,p,t)\n",
    "    ω,L = p\n",
    "    x,y = u\n",
    "    du[1] = y\n",
    "    du[2] = - ω*y -(9.8/L)*sin(x)\n",
    "end\n",
    "\n",
    "u0 = [1.0,0.1]\n",
    "tspan = (0.0,10.0)\n",
    "prob1 = ODEProblem(pendulum,u0,tspan,[1.0,2.5])"
   ]
  },
  {
   "cell_type": "markdown",
   "metadata": {},
   "source": [
    "### Solve the model and plot\n",
    "\n",
    "To understand the model and generate data, let's solve and visualize the solution\n",
    "with the known parameters:"
   ]
  },
  {
   "cell_type": "code",
   "execution_count": null,
   "metadata": {},
   "outputs": [],
   "source": [
    "sol = solve(prob1,Tsit5())\n",
    "plot(sol)"
   ]
  },
  {
   "cell_type": "markdown",
   "metadata": {},
   "source": [
    "It's the pendulum, so you know what it looks like. It's periodic, but since we\n",
    "have not made a small angle assumption it's not exactly `sin` or `cos`. Because\n",
    "the true dampening parameter `ω` is 1, the solution does not decay over time,\n",
    "nor does it increase. The length `L` determines the period.\n",
    "\n",
    "### Create some dummy data to use for estimation\n",
    "\n",
    "We now generate some dummy data to use for estimation"
   ]
  },
  {
   "cell_type": "code",
   "execution_count": null,
   "metadata": {},
   "outputs": [],
   "source": [
    "t = collect(range(1,stop=10,length=10))\n",
    "randomized = VectorOfArray([(sol(t[i]) + .01randn(2)) for i in 1:length(t)])\n",
    "data = convert(Array,randomized)"
   ]
  },
  {
   "cell_type": "markdown",
   "metadata": {},
   "source": [
    "Let's see what our data looks like on top of the real solution"
   ]
  },
  {
   "cell_type": "code",
   "execution_count": null,
   "metadata": {},
   "outputs": [],
   "source": [
    "scatter!(data')"
   ]
  },
  {
   "cell_type": "markdown",
   "metadata": {},
   "source": [
    "This data captures the non-dampening effect and the true period, making it\n",
    "perfect to attempting a Bayesian inference.\n",
    "\n",
    "### Perform Bayesian Estimation\n",
    "\n",
    "Now let's fit the pendulum to the data. Since we know our model is correct,\n",
    "this should give us back the parameters that we used to generate the data!\n",
    "Define priors on our parameters. In this case, let's assume we don't have much\n",
    "information, but have a prior belief that ω is between 0.1 and 3.0, while the\n",
    "length of the pendulum L is probably around 3.0:"
   ]
  },
  {
   "cell_type": "code",
   "execution_count": null,
   "metadata": {},
   "outputs": [],
   "source": [
    "priors = [Uniform(0.1,3.0), Normal(3.0,1.0)]"
   ]
  },
  {
   "cell_type": "markdown",
   "metadata": {},
   "source": [
    "Finally let's run the estimation routine from DiffEqBayes.jl with the Turing.jl backend to check if we indeed recover the parameters!"
   ]
  },
  {
   "cell_type": "code",
   "execution_count": null,
   "metadata": {},
   "outputs": [],
   "source": [
    "bayesian_result = turing_inference(prob1,Tsit5(),t,data,priors;num_samples=10_000,\n",
    "                                   syms = [:omega,:L])"
   ]
  },
  {
   "cell_type": "markdown",
   "metadata": {},
   "source": [
    "Notice that while our guesses had the wrong means, the learned parameters converged\n",
    "to the correct means, meaning that it learned good posterior distributions for the\n",
    "parameters. To look at these posterior distributions on the parameters, we can\n",
    "examine the chains:"
   ]
  },
  {
   "cell_type": "code",
   "execution_count": null,
   "metadata": {},
   "outputs": [],
   "source": [
    "plot(bayesian_result)"
   ]
  },
  {
   "cell_type": "markdown",
   "metadata": {},
   "source": [
    "As a diagnostic, we will also check the parameter chains. The chain is the MCMC\n",
    "sampling process. The chain should explore parameter space and converge reasonably\n",
    "well, and we should be taking a lot of samples after it converges (it is these\n",
    "samples that form the posterior distribution!)"
   ]
  },
  {
   "cell_type": "code",
   "execution_count": null,
   "metadata": {},
   "outputs": [],
   "source": [
    "plot(bayesian_result, colordim = :parameter)"
   ]
  },
  {
   "cell_type": "markdown",
   "metadata": {},
   "source": [
    "Notice that after awhile these chains converge to a \"fuzzy line\", meaning it\n",
    "found the area with the most likelihood and then starts to sample around there,\n",
    "which builds a posterior distribution around the true mean.\n",
    "\n",
    "DiffEqBayes.jl allows the choice of using Stan.jl, Turing.jl and DynamicHMC.jl for MCMC, you can also use ApproxBayes.jl for Approximate Bayesian computation algorithms.\n",
    "Let's compare the timings across the different MCMC backends. We'll stick with the default arguments and 10,000 samples in each since there is a lot of room for micro-optimization\n",
    "specific to each package and algorithm combinations, you might want to do your own experiments for specific problems to get better understanding of the performance."
   ]
  },
  {
   "cell_type": "code",
   "execution_count": null,
   "metadata": {},
   "outputs": [],
   "source": [
    "@btime bayesian_result = turing_inference(prob1,Tsit5(),t,data,priors;syms = [:omega,:L],num_samples=10_000)"
   ]
  },
  {
   "cell_type": "code",
   "execution_count": null,
   "metadata": {},
   "outputs": [],
   "source": [
    "@btime bayesian_result = stan_inference(prob1,t,data,priors;num_samples=10_000,printsummary=false)"
   ]
  },
  {
   "cell_type": "code",
   "execution_count": null,
   "metadata": {},
   "outputs": [],
   "source": [
    "@btime bayesian_result = dynamichmc_inference(prob1,Tsit5(),t,data,priors;num_samples = 10_000)"
   ]
  }
 ],
 "metadata": {
  "kernelspec": {
   "display_name": "Julia 1.5.1",
   "language": "julia",
   "name": "julia-1.5"
  },
  "language_info": {
   "file_extension": ".jl",
   "mimetype": "application/julia",
   "name": "julia",
   "version": "1.5.1"
  }
 },
 "nbformat": 4,
 "nbformat_minor": 4
}
